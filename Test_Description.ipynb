{
 "cells": [
  {
   "cell_type": "markdown",
   "id": "2b62379e-bf79-4101-a08c-cdf4ff4401d8",
   "metadata": {},
   "source": [
    "The test results of test.py shows one function passing, test_list_int, and one function failing, test_list_fraction. With the test displaying that the sum of the fraction function's data adding to a value less than 1. This demostrates that function can add list of functions properly but that the inputted list does not match the test condition."
   ]
  },
  {
   "cell_type": "code",
   "execution_count": null,
   "id": "2cc72139-b04d-4733-907d-5fb5681014ad",
   "metadata": {},
   "outputs": [],
   "source": []
  }
 ],
 "metadata": {
  "kernelspec": {
   "display_name": "Python 3 (ipykernel)",
   "language": "python",
   "name": "python3"
  },
  "language_info": {
   "codemirror_mode": {
    "name": "ipython",
    "version": 3
   },
   "file_extension": ".py",
   "mimetype": "text/x-python",
   "name": "python",
   "nbconvert_exporter": "python",
   "pygments_lexer": "ipython3",
   "version": "3.12.7"
  }
 },
 "nbformat": 4,
 "nbformat_minor": 5
}
